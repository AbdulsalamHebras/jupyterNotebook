{
 "cells": [
  {
   "cell_type": "code",
   "execution_count": 4,
   "id": "a2cd2c63",
   "metadata": {},
   "outputs": [],
   "source": [
    "import numpy as np\n",
    "import pandas as pd\n",
    "import seaborn as sns\n",
    "import matplotlib.pyplot as plt"
   ]
  },
  {
   "cell_type": "code",
   "execution_count": 21,
   "id": "cfa6c6e4",
   "metadata": {},
   "outputs": [
    {
     "data": {
      "text/html": [
       "<div>\n",
       "<style scoped>\n",
       "    .dataframe tbody tr th:only-of-type {\n",
       "        vertical-align: middle;\n",
       "    }\n",
       "\n",
       "    .dataframe tbody tr th {\n",
       "        vertical-align: top;\n",
       "    }\n",
       "\n",
       "    .dataframe thead th {\n",
       "        text-align: right;\n",
       "    }\n",
       "</style>\n",
       "<table border=\"1\" class=\"dataframe\">\n",
       "  <thead>\n",
       "    <tr style=\"text-align: right;\">\n",
       "      <th></th>\n",
       "      <th>id</th>\n",
       "      <th>name</th>\n",
       "      <th>track</th>\n",
       "      <th>giographic</th>\n",
       "      <th>history</th>\n",
       "      <th>computer</th>\n",
       "      <th>arabic</th>\n",
       "      <th>islamic</th>\n",
       "      <th>english</th>\n",
       "      <th>physics</th>\n",
       "      <th>chemister</th>\n",
       "      <th>biology</th>\n",
       "      <th>math</th>\n",
       "    </tr>\n",
       "  </thead>\n",
       "  <tbody>\n",
       "    <tr>\n",
       "      <th>0</th>\n",
       "      <td>1</td>\n",
       "      <td>salam</td>\n",
       "      <td>engineer</td>\n",
       "      <td>NaN</td>\n",
       "      <td>NaN</td>\n",
       "      <td>NaN</td>\n",
       "      <td>90</td>\n",
       "      <td>99</td>\n",
       "      <td>100</td>\n",
       "      <td>90</td>\n",
       "      <td>80</td>\n",
       "      <td>NaN</td>\n",
       "      <td>91</td>\n",
       "    </tr>\n",
       "  </tbody>\n",
       "</table>\n",
       "</div>"
      ],
      "text/plain": [
       "   id   name     track  giographic  history  computer  arabic  islamic  \\\n",
       "0   1  salam  engineer         NaN      NaN       NaN      90       99   \n",
       "\n",
       "   english  physics  chemister  biology  math  \n",
       "0      100       90         80      NaN    91  "
      ]
     },
     "execution_count": 21,
     "metadata": {},
     "output_type": "execute_result"
    }
   ],
   "source": [
    "student=pd.read_excel('students.xlsx')\n",
    "student"
   ]
  },
  {
   "cell_type": "code",
   "execution_count": null,
   "id": "96c956e9",
   "metadata": {},
   "outputs": [],
   "source": [
    "def mainMeun():\n",
    "    print('please choose one of these options')\n",
    "    print('---------------------------------------')\n",
    "    print('[1]-add a new student')\n",
    "    print('[2]-delete a student')\n",
    "    print('[3]-display a student')\n",
    "    print('[4]-update a student')\n",
    "    print('[5]-exit')"
   ]
  },
  {
   "cell_type": "code",
   "execution_count": 33,
   "id": "f9714250",
   "metadata": {},
   "outputs": [
    {
     "ename": "SyntaxError",
     "evalue": "invalid syntax (Temp/ipykernel_10336/1454386105.py, line 2)",
     "output_type": "error",
     "traceback": [
      "\u001b[1;36m  File \u001b[1;32m\"C:\\Users\\ABDESS~1\\AppData\\Local\\Temp/ipykernel_10336/1454386105.py\"\u001b[1;36m, line \u001b[1;32m2\u001b[0m\n\u001b[1;33m    x=input(enter the_id of the student:)\u001b[0m\n\u001b[1;37m                  ^\u001b[0m\n\u001b[1;31mSyntaxError\u001b[0m\u001b[1;31m:\u001b[0m invalid syntax\n"
     ]
    }
   ],
   "source": [
    "def search():\n",
    "    x=input(enter the_id of the student:)"
   ]
  },
  {
   "cell_type": "code",
   "execution_count": 24,
   "id": "384309f0",
   "metadata": {},
   "outputs": [],
   "source": [
    "def addMenu():\n",
    "    print('please choose one of these options')\n",
    "    print('---------------------------------------')\n",
    "    print('[1]-foundation')\n",
    "    print('[2]-medical')\n",
    "    print('[3]-engineer')\n",
    "    print('[4]-exit')"
   ]
  },
  {
   "cell_type": "code",
   "execution_count": 25,
   "id": "61a7c93b",
   "metadata": {},
   "outputs": [
    {
     "ename": "IndentationError",
     "evalue": "expected an indented block (Temp/ipykernel_10336/3510120592.py, line 1)",
     "output_type": "error",
     "traceback": [
      "\u001b[1;36m  File \u001b[1;32m\"C:\\Users\\ABDESS~1\\AppData\\Local\\Temp/ipykernel_10336/3510120592.py\"\u001b[1;36m, line \u001b[1;32m1\u001b[0m\n\u001b[1;33m    def addNewStudent():\u001b[0m\n\u001b[1;37m                        ^\u001b[0m\n\u001b[1;31mIndentationError\u001b[0m\u001b[1;31m:\u001b[0m expected an indented block\n"
     ]
    }
   ],
   "source": [
    "def addNewStudent():\n",
    "    search()\n",
    "    addMenu()"
   ]
  },
  {
   "cell_type": "code",
   "execution_count": 29,
   "id": "a8b8e8d6",
   "metadata": {},
   "outputs": [],
   "source": [
    "def deleteStudent():\n",
    "    search()"
   ]
  },
  {
   "cell_type": "code",
   "execution_count": null,
   "id": "ecdfac4d",
   "metadata": {},
   "outputs": [],
   "source": [
    "def updateMeun():\n",
    "      print('please choose one of these options')\n",
    "    print('---------------------------------------')\n",
    "    print('[1]-update name')\n",
    "    print('[2]-update track')\n",
    "    print('[3]-update subjects')\n",
    "    print('[4]-exit')"
   ]
  },
  {
   "cell_type": "code",
   "execution_count": 27,
   "id": "9d4ca0d0",
   "metadata": {},
   "outputs": [
    {
     "ename": "IndentationError",
     "evalue": "expected an indented block (Temp/ipykernel_10336/1298619283.py, line 2)",
     "output_type": "error",
     "traceback": [
      "\u001b[1;36m  File \u001b[1;32m\"C:\\Users\\ABDESS~1\\AppData\\Local\\Temp/ipykernel_10336/1298619283.py\"\u001b[1;36m, line \u001b[1;32m2\u001b[0m\n\u001b[1;33m    \u001b[0m\n\u001b[1;37m    ^\u001b[0m\n\u001b[1;31mIndentationError\u001b[0m\u001b[1;31m:\u001b[0m expected an indented block\n"
     ]
    }
   ],
   "source": [
    "def updateStudent():\n",
    "    search()"
   ]
  },
  {
   "cell_type": "code",
   "execution_count": 28,
   "id": "402861ff",
   "metadata": {},
   "outputs": [
    {
     "ename": "IndentationError",
     "evalue": "expected an indented block (Temp/ipykernel_10336/4054980291.py, line 1)",
     "output_type": "error",
     "traceback": [
      "\u001b[1;36m  File \u001b[1;32m\"C:\\Users\\ABDESS~1\\AppData\\Local\\Temp/ipykernel_10336/4054980291.py\"\u001b[1;36m, line \u001b[1;32m1\u001b[0m\n\u001b[1;33m    def displayStudent():\u001b[0m\n\u001b[1;37m                         ^\u001b[0m\n\u001b[1;31mIndentationError\u001b[0m\u001b[1;31m:\u001b[0m expected an indented block\n"
     ]
    }
   ],
   "source": [
    "def displayStudent():\n",
    "    search()"
   ]
  },
  {
   "cell_type": "code",
   "execution_count": null,
   "id": "058fca74",
   "metadata": {},
   "outputs": [],
   "source": []
  }
 ],
 "metadata": {
  "kernelspec": {
   "display_name": "Python 3 (ipykernel)",
   "language": "python",
   "name": "python3"
  },
  "language_info": {
   "codemirror_mode": {
    "name": "ipython",
    "version": 3
   },
   "file_extension": ".py",
   "mimetype": "text/x-python",
   "name": "python",
   "nbconvert_exporter": "python",
   "pygments_lexer": "ipython3",
   "version": "3.9.7"
  }
 },
 "nbformat": 4,
 "nbformat_minor": 5
}
